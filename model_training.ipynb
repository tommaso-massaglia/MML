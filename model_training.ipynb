{
 "cells": [
  {
   "cell_type": "code",
   "execution_count": 36,
   "metadata": {},
   "outputs": [],
   "source": [
    "import numpy as np\n",
    "import pandas as pd\n",
    "import seaborn as sns\n",
    "import matplotlib.pyplot as plt\n",
    "import os, shutil, sklearn\n",
    "\n",
    "from modules import WineDb\n",
    "from modules.PreprocessingFunctions import Functions as prep\n",
    "\n",
    "if os.path.exists('modules\\__pycache__'):\n",
    "    shutil.rmtree('modules\\__pycache__')"
   ]
  },
  {
   "cell_type": "code",
   "execution_count": 2,
   "metadata": {},
   "outputs": [
    {
     "data": {
      "text/html": [
       "<div>\n",
       "<style scoped>\n",
       "    .dataframe tbody tr th:only-of-type {\n",
       "        vertical-align: middle;\n",
       "    }\n",
       "\n",
       "    .dataframe tbody tr th {\n",
       "        vertical-align: top;\n",
       "    }\n",
       "\n",
       "    .dataframe thead th {\n",
       "        text-align: right;\n",
       "    }\n",
       "</style>\n",
       "<table border=\"1\" class=\"dataframe\">\n",
       "  <thead>\n",
       "    <tr style=\"text-align: right;\">\n",
       "      <th></th>\n",
       "      <th>fixed acidity</th>\n",
       "      <th>volatile acidity</th>\n",
       "      <th>citric acid</th>\n",
       "      <th>residual sugar</th>\n",
       "      <th>chlorides</th>\n",
       "      <th>free sulfur dioxide</th>\n",
       "      <th>total sulfur dioxide</th>\n",
       "      <th>density</th>\n",
       "      <th>pH</th>\n",
       "      <th>sulphates</th>\n",
       "      <th>alcohol</th>\n",
       "      <th>quality</th>\n",
       "      <th>type</th>\n",
       "    </tr>\n",
       "  </thead>\n",
       "  <tbody>\n",
       "    <tr>\n",
       "      <th>0</th>\n",
       "      <td>7.4</td>\n",
       "      <td>0.70</td>\n",
       "      <td>0.00</td>\n",
       "      <td>1.9</td>\n",
       "      <td>0.076</td>\n",
       "      <td>11.0</td>\n",
       "      <td>34.0</td>\n",
       "      <td>0.9978</td>\n",
       "      <td>3.51</td>\n",
       "      <td>0.56</td>\n",
       "      <td>9.4</td>\n",
       "      <td>5</td>\n",
       "      <td>1</td>\n",
       "    </tr>\n",
       "    <tr>\n",
       "      <th>1</th>\n",
       "      <td>7.8</td>\n",
       "      <td>0.88</td>\n",
       "      <td>0.00</td>\n",
       "      <td>2.6</td>\n",
       "      <td>0.098</td>\n",
       "      <td>25.0</td>\n",
       "      <td>67.0</td>\n",
       "      <td>0.9968</td>\n",
       "      <td>3.20</td>\n",
       "      <td>0.68</td>\n",
       "      <td>9.8</td>\n",
       "      <td>5</td>\n",
       "      <td>1</td>\n",
       "    </tr>\n",
       "    <tr>\n",
       "      <th>2</th>\n",
       "      <td>7.8</td>\n",
       "      <td>0.76</td>\n",
       "      <td>0.04</td>\n",
       "      <td>2.3</td>\n",
       "      <td>0.092</td>\n",
       "      <td>15.0</td>\n",
       "      <td>54.0</td>\n",
       "      <td>0.9970</td>\n",
       "      <td>3.26</td>\n",
       "      <td>0.65</td>\n",
       "      <td>9.8</td>\n",
       "      <td>5</td>\n",
       "      <td>1</td>\n",
       "    </tr>\n",
       "    <tr>\n",
       "      <th>3</th>\n",
       "      <td>11.2</td>\n",
       "      <td>0.28</td>\n",
       "      <td>0.56</td>\n",
       "      <td>1.9</td>\n",
       "      <td>0.075</td>\n",
       "      <td>17.0</td>\n",
       "      <td>60.0</td>\n",
       "      <td>0.9980</td>\n",
       "      <td>3.16</td>\n",
       "      <td>0.58</td>\n",
       "      <td>9.8</td>\n",
       "      <td>6</td>\n",
       "      <td>1</td>\n",
       "    </tr>\n",
       "    <tr>\n",
       "      <th>4</th>\n",
       "      <td>7.4</td>\n",
       "      <td>0.70</td>\n",
       "      <td>0.00</td>\n",
       "      <td>1.9</td>\n",
       "      <td>0.076</td>\n",
       "      <td>11.0</td>\n",
       "      <td>34.0</td>\n",
       "      <td>0.9978</td>\n",
       "      <td>3.51</td>\n",
       "      <td>0.56</td>\n",
       "      <td>9.4</td>\n",
       "      <td>5</td>\n",
       "      <td>1</td>\n",
       "    </tr>\n",
       "  </tbody>\n",
       "</table>\n",
       "</div>"
      ],
      "text/plain": [
       "   fixed acidity  volatile acidity  citric acid  residual sugar  chlorides  \\\n",
       "0            7.4              0.70         0.00             1.9      0.076   \n",
       "1            7.8              0.88         0.00             2.6      0.098   \n",
       "2            7.8              0.76         0.04             2.3      0.092   \n",
       "3           11.2              0.28         0.56             1.9      0.075   \n",
       "4            7.4              0.70         0.00             1.9      0.076   \n",
       "\n",
       "   free sulfur dioxide  total sulfur dioxide  density    pH  sulphates  \\\n",
       "0                 11.0                  34.0   0.9978  3.51       0.56   \n",
       "1                 25.0                  67.0   0.9968  3.20       0.68   \n",
       "2                 15.0                  54.0   0.9970  3.26       0.65   \n",
       "3                 17.0                  60.0   0.9980  3.16       0.58   \n",
       "4                 11.0                  34.0   0.9978  3.51       0.56   \n",
       "\n",
       "   alcohol  quality  type  \n",
       "0      9.4        5     1  \n",
       "1      9.8        5     1  \n",
       "2      9.8        5     1  \n",
       "3      9.8        6     1  \n",
       "4      9.4        5     1  "
      ]
     },
     "execution_count": 2,
     "metadata": {},
     "output_type": "execute_result"
    }
   ],
   "source": [
    "winedb = WineDb.WineDb()\n",
    "winedb().head()"
   ]
  },
  {
   "cell_type": "markdown",
   "metadata": {},
   "source": [
    "# Binary Classification"
   ]
  },
  {
   "cell_type": "code",
   "execution_count": 31,
   "metadata": {},
   "outputs": [],
   "source": [
    "from sklearn.ensemble import RandomForestClassifier\n",
    "from sklearn.metrics import confusion_matrix\n",
    "\n",
    "# Pipelines\n",
    "def pipeline1(x, excluded):\n",
    "    output = prep.minmax_norm(x, excluded)\n",
    "    return output\n",
    "\n",
    "def pipeline2(x, excluded):\n",
    "    x = prep.zscore_outliers(x, 4, excluded)\n",
    "    output = prep.minmax_norm(x, excluded)\n",
    "    return output\n",
    "\n",
    "def pipeline3(x, excluded):\n",
    "    x = prep.isoforest_outliers(x, excluded)\n",
    "    x = prep.smote(x)\n",
    "    output = prep.standard_norm(x, excluded)\n",
    "    return output\n",
    "\n",
    "def pipeline4(x, excluded):\n",
    "    x = prep.minmax_norm(x, excluded)\n",
    "    output = prep.pca(x, excluded)\n",
    "    return output\n",
    "\n",
    "\n",
    "# Train/Test/Split and fit auxiliary functions\n",
    "def get_split_data(input_db, excluded, target, test_size=0.33):\n",
    "    excluded_col = excluded+target\n",
    "    x = input_db.loc[:,input_db.columns.difference(excluded_col)]\n",
    "    y = input_db.loc[:,target][target[0]]\n",
    "    \n",
    "    x_train, x_test, y_train, y_test = sklearn.model_selection.train_test_split(x, y, test_size=0.4, random_state = 42)\n",
    "    \n",
    "    return x_train, x_test, y_train, y_test\n",
    "\n",
    "def fit_and_test(args):\n",
    "    x_train, x_test, y_train, y_test = args\n",
    "    randforest = RandomForestClassifier()\n",
    "    randforest.fit(x_train, y_train)\n",
    "    pred = randforest.predict(x_test)\n",
    "    \n",
    "    return confusion_matrix(y_test, pred)"
   ]
  },
  {
   "cell_type": "code",
   "execution_count": 50,
   "metadata": {},
   "outputs": [
    {
     "data": {
      "image/png": "[encoded data removed]",
      "text/plain": [
       "<Figure size 800x600 with 8 Axes>"
      ]
     },
     "metadata": {},
     "output_type": "display_data"
    }
   ],
   "source": [
    "target_col = ['type']\n",
    "excluded_col = ['alcohol', 'quality']\n",
    "\n",
    "dbs = {\n",
    "    'pipeline_1':pipeline1(winedb(), target_col),\n",
    "    'pipeline_2': pipeline2(winedb(), target_col),\n",
    "    'pipeline_3': pipeline3(winedb(), target_col),\n",
    "    'pipeline_4': pipeline4(winedb(), target_col)\n",
    "       }\n",
    "\n",
    "f, ax = plt.subplots(2,2, figsize=(8, 6))\n",
    "\n",
    "xind,yind = 0, 0\n",
    "\n",
    "for key in dbs:\n",
    "    sns.heatmap(fit_and_test(get_split_data(dbs[key], excluded_col, target_col)), ax = ax[yind, xind],  annot=True,fmt=\"d\")\n",
    "    if xind < 1: \n",
    "        xind+=1\n",
    "    else: \n",
    "        xind=0\n",
    "        yind+=1"
   ]
  },
  {
   "cell_type": "markdown",
   "metadata": {},
   "source": [
    "# Regression (and SVM)"
   ]
  },
  {
   "cell_type": "code",
   "execution_count": 53,
   "metadata": {},
   "outputs": [],
   "source": [
    "from sklearn.linear_model import LinearRegression\n",
    "from sklearn.linear_model import BayesianRidge\n",
    "from sklearn.model_selection import cross_val_score"
   ]
  },
  {
   "cell_type": "code",
   "execution_count": 60,
   "metadata": {},
   "outputs": [],
   "source": [
    "input_db = winedb()"
   ]
  },
  {
   "cell_type": "code",
   "execution_count": 61,
   "metadata": {},
   "outputs": [
    {
     "name": "stdout",
     "output_type": "stream",
     "text": [
      "[-0.09952346 -0.10116262 -0.10017277 -0.10833307 -0.09363466]\n"
     ]
    }
   ],
   "source": [
    "regressor = LinearRegression()\n",
    "\n",
    "x_train, x_test, y_train, y_test = get_split_data(input_db, [], ['quality'])\n",
    "\n",
    "regressor.fit(x_train, y_train)\n",
    "print(cross_val_score(regressor, x_train, y_train, scoring='neg_mean_absolute_percentage_error'))\n",
    "preds = regressor.predict(x_test)"
   ]
  },
  {
   "cell_type": "code",
   "execution_count": 62,
   "metadata": {},
   "outputs": [
    {
     "name": "stdout",
     "output_type": "stream",
     "text": [
      "0.2802786544177982\n",
      "MSE: 0.1056651718936176\n"
     ]
    }
   ],
   "source": [
    "print(regressor.score(x_test, y_test))\n",
    "print(f'MSE: {sum(y_test - preds)**2/len(y_test)}')"
   ]
  },
  {
   "cell_type": "code",
   "execution_count": 63,
   "metadata": {},
   "outputs": [
    {
     "name": "stdout",
     "output_type": "stream",
     "text": [
      "[-0.10058809 -0.10150046 -0.10053519 -0.10850582 -0.09338605]\n"
     ]
    }
   ],
   "source": [
    "regressor = BayesianRidge()\n",
    "\n",
    "x_train, x_test, y_train, y_test = get_split_data(input_db, [], ['quality'])\n",
    "\n",
    "regressor.fit(x_train, y_train)\n",
    "print(cross_val_score(regressor, x_train, y_train, scoring='neg_mean_absolute_percentage_error'))\n",
    "preds = regressor.predict(x_test)"
   ]
  },
  {
   "cell_type": "code",
   "execution_count": 64,
   "metadata": {},
   "outputs": [
    {
     "name": "stdout",
     "output_type": "stream",
     "text": [
      "0.2752421666972803\n",
      "MSE: 0.132714547951243\n"
     ]
    }
   ],
   "source": [
    "print(regressor.score(x_test, y_test))\n",
    "print(f'MSE: {sum(y_test - preds)**2/len(y_test)}')"
   ]
  }
 ],
 "metadata": {
  "kernelspec": {
   "display_name": "Python 3.9.10 ('.venv': venv)",
   "language": "python",
   "name": "python3"
  },
  "language_info": {
   "codemirror_mode": {
    "name": "ipython",
    "version": 3
   },
   "file_extension": ".py",
   "mimetype": "text/x-python",
   "name": "python",
   "nbconvert_exporter": "python",
   "pygments_lexer": "ipython3",
   "version": "3.9.10"
  },
  "orig_nbformat": 4,
  "vscode": {
   "interpreter": {
    "hash": "7f354c8fcca99758364900ec63cee75206d3344389a0225119e6db8961fee8f3"
   }
  }
 },
 "nbformat": 4,
 "nbformat_minor": 2
}
